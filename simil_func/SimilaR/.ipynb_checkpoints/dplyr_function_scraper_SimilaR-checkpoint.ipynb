{
 "cells": [
  {
   "cell_type": "code",
   "execution_count": 2,
   "metadata": {},
   "outputs": [],
   "source": [
    "import pandas as pd\n",
    "import requests\n",
    "from bs4 import BeautifulSoup"
   ]
  },
  {
   "cell_type": "code",
   "execution_count": 3,
   "metadata": {},
   "outputs": [],
   "source": [
    "full_url = 'https://dplyr.tidyverse.org/reference/'\n",
    "req=requests.get(url=full_url)\n",
    "soup=BeautifulSoup(req.text,\"html.parser\")"
   ]
  },
  {
   "cell_type": "code",
   "execution_count": 9,
   "metadata": {},
   "outputs": [],
   "source": [
    "functions_text = []\n",
    "functions_links = []\n",
    "\n",
    "for item in soup.findAll('a',href=True,attrs={'class': None}):\n",
    "    functions_text.append(item.get_text())\n",
    "    functions_links.append('https://dplyr.tidyverse.org/reference/'+item['href'])"
   ]
  },
  {
   "cell_type": "code",
   "execution_count": 11,
   "metadata": {},
   "outputs": [
    {
     "data": {
      "text/html": [
       "<div>\n",
       "<style scoped>\n",
       "    .dataframe tbody tr th:only-of-type {\n",
       "        vertical-align: middle;\n",
       "    }\n",
       "\n",
       "    .dataframe tbody tr th {\n",
       "        vertical-align: top;\n",
       "    }\n",
       "\n",
       "    .dataframe thead th {\n",
       "        text-align: right;\n",
       "    }\n",
       "</style>\n",
       "<table border=\"1\" class=\"dataframe\">\n",
       "  <thead>\n",
       "    <tr style=\"text-align: right;\">\n",
       "      <th></th>\n",
       "      <th>0</th>\n",
       "    </tr>\n",
       "  </thead>\n",
       "  <tbody>\n",
       "    <tr>\n",
       "      <th>https://dplyr.tidyverse.org/reference/arrange.html</th>\n",
       "      <td>arrange()</td>\n",
       "    </tr>\n",
       "    <tr>\n",
       "      <th>https://dplyr.tidyverse.org/reference/count.html</th>\n",
       "      <td>count()</td>\n",
       "    </tr>\n",
       "    <tr>\n",
       "      <th>https://dplyr.tidyverse.org/reference/count.html</th>\n",
       "      <td>tally()</td>\n",
       "    </tr>\n",
       "    <tr>\n",
       "      <th>https://dplyr.tidyverse.org/reference/count.html</th>\n",
       "      <td>add_count()</td>\n",
       "    </tr>\n",
       "    <tr>\n",
       "      <th>https://dplyr.tidyverse.org/reference/count.html</th>\n",
       "      <td>add_tally()</td>\n",
       "    </tr>\n",
       "    <tr>\n",
       "      <th>...</th>\n",
       "      <td>...</td>\n",
       "    </tr>\n",
       "    <tr>\n",
       "      <th>https://dplyr.tidyverse.org/reference/top_n.html</th>\n",
       "      <td>top_frac()</td>\n",
       "    </tr>\n",
       "    <tr>\n",
       "      <th>https://dplyr.tidyverse.org/reference/scoped.html</th>\n",
       "      <td>scoped</td>\n",
       "    </tr>\n",
       "    <tr>\n",
       "      <th>https://dplyr.tidyverse.org/reference/all_vars.html</th>\n",
       "      <td>all_vars()</td>\n",
       "    </tr>\n",
       "    <tr>\n",
       "      <th>https://dplyr.tidyverse.org/reference/all_vars.html</th>\n",
       "      <td>any_vars()</td>\n",
       "    </tr>\n",
       "    <tr>\n",
       "      <th>https://dplyr.tidyverse.org/reference/vars.html</th>\n",
       "      <td>vars()</td>\n",
       "    </tr>\n",
       "  </tbody>\n",
       "</table>\n",
       "<p>140 rows × 1 columns</p>\n",
       "</div>"
      ],
      "text/plain": [
       "                                                              0\n",
       "https://dplyr.tidyverse.org/reference/arrange.html    arrange()\n",
       "https://dplyr.tidyverse.org/reference/count.html        count()\n",
       "https://dplyr.tidyverse.org/reference/count.html        tally()\n",
       "https://dplyr.tidyverse.org/reference/count.html    add_count()\n",
       "https://dplyr.tidyverse.org/reference/count.html    add_tally()\n",
       "...                                                         ...\n",
       "https://dplyr.tidyverse.org/reference/top_n.html     top_frac()\n",
       "https://dplyr.tidyverse.org/reference/scoped.html        scoped\n",
       "https://dplyr.tidyverse.org/reference/all_vars....   all_vars()\n",
       "https://dplyr.tidyverse.org/reference/all_vars....   any_vars()\n",
       "https://dplyr.tidyverse.org/reference/vars.html          vars()\n",
       "\n",
       "[140 rows x 1 columns]"
      ]
     },
     "execution_count": 11,
     "metadata": {},
     "output_type": "execute_result"
    }
   ],
   "source": [
    "df = pd.DataFrame(functions_text, functions_links)\n",
    "df.to_csv(\"all_dplyr_funcs.csv\")\n",
    "df"
   ]
  },
  {
   "cell_type": "code",
   "execution_count": null,
   "metadata": {},
   "outputs": [],
   "source": []
  }
 ],
 "metadata": {
  "kernelspec": {
   "display_name": "Python 3",
   "language": "python",
   "name": "python3"
  },
  "language_info": {
   "codemirror_mode": {
    "name": "ipython",
    "version": 3
   },
   "file_extension": ".py",
   "mimetype": "text/x-python",
   "name": "python",
   "nbconvert_exporter": "python",
   "pygments_lexer": "ipython3",
   "version": "3.7.7"
  }
 },
 "nbformat": 4,
 "nbformat_minor": 2
}
