{
 "cells": [
  {
   "cell_type": "code",
   "execution_count": 1,
   "metadata": {},
   "outputs": [],
   "source": [
    "import pandas as pd\n",
    "import requests\n",
    "from bs4 import BeautifulSoup"
   ]
  },
  {
   "cell_type": "code",
   "execution_count": 6,
   "metadata": {},
   "outputs": [],
   "source": [
    "functions = [\"group_by\", \"summarise\", \"mutate\", \"filter\", \"rename\", \"arrange\", \"select\"]\n",
    "\n",
    "code_to_add = []\n",
    "\n",
    "for func in functions:\n",
    "    full_url = 'https://dplyr.tidyverse.org/reference/' + func + \".html\"\n",
    "    req=requests.get(url=full_url)\n",
    "    soup=BeautifulSoup(req.text,\"html.parser\")\n",
    "    temp = soup.find(\"h2\",{\"id\": \"see-also\"}).next_sibling.next_sibling\n",
    "    temp['class'] = \"useless\"\n",
    "    for stuff in temp.p.findAll(\"code\"):\n",
    "        stuff.a[\"href\"] = \"https://dplyr.tidyverse.org/reference/\" + stuff.a[\"href\"]\n",
    "    \n",
    "    code_to_add.append(str(temp))\n"
   ]
  },
  {
   "cell_type": "code",
   "execution_count": 7,
   "metadata": {},
   "outputs": [
    {
     "data": {
      "text/html": [
       "<div>\n",
       "<style scoped>\n",
       "    .dataframe tbody tr th:only-of-type {\n",
       "        vertical-align: middle;\n",
       "    }\n",
       "\n",
       "    .dataframe tbody tr th {\n",
       "        vertical-align: top;\n",
       "    }\n",
       "\n",
       "    .dataframe thead th {\n",
       "        text-align: right;\n",
       "    }\n",
       "</style>\n",
       "<table border=\"1\" class=\"dataframe\">\n",
       "  <thead>\n",
       "    <tr style=\"text-align: right;\">\n",
       "      <th></th>\n",
       "      <th>function</th>\n",
       "      <th>code_to_add</th>\n",
       "    </tr>\n",
       "  </thead>\n",
       "  <tbody>\n",
       "    <tr>\n",
       "      <th>0</th>\n",
       "      <td>group_by</td>\n",
       "      <td>&lt;div class=\"useless\"&gt;&lt;p&gt;Other grouping functio...</td>\n",
       "    </tr>\n",
       "    <tr>\n",
       "      <th>1</th>\n",
       "      <td>summarise</td>\n",
       "      <td>&lt;div class=\"useless\"&gt;&lt;p&gt;Other single table ver...</td>\n",
       "    </tr>\n",
       "    <tr>\n",
       "      <th>2</th>\n",
       "      <td>mutate</td>\n",
       "      <td>&lt;div class=\"useless\"&gt;&lt;p&gt;Other single table ver...</td>\n",
       "    </tr>\n",
       "    <tr>\n",
       "      <th>3</th>\n",
       "      <td>filter</td>\n",
       "      <td>&lt;div class=\"useless\"&gt;&lt;p&gt;Other single table ver...</td>\n",
       "    </tr>\n",
       "    <tr>\n",
       "      <th>4</th>\n",
       "      <td>rename</td>\n",
       "      <td>&lt;div class=\"useless\"&gt;&lt;p&gt;Other single table ver...</td>\n",
       "    </tr>\n",
       "    <tr>\n",
       "      <th>5</th>\n",
       "      <td>arrange</td>\n",
       "      <td>&lt;div class=\"useless\"&gt;&lt;p&gt;Other single table ver...</td>\n",
       "    </tr>\n",
       "    <tr>\n",
       "      <th>6</th>\n",
       "      <td>select</td>\n",
       "      <td>&lt;div class=\"useless\"&gt;&lt;p&gt;Other single table ver...</td>\n",
       "    </tr>\n",
       "  </tbody>\n",
       "</table>\n",
       "</div>"
      ],
      "text/plain": [
       "    function                                        code_to_add\n",
       "0   group_by  <div class=\"useless\"><p>Other grouping functio...\n",
       "1  summarise  <div class=\"useless\"><p>Other single table ver...\n",
       "2     mutate  <div class=\"useless\"><p>Other single table ver...\n",
       "3     filter  <div class=\"useless\"><p>Other single table ver...\n",
       "4     rename  <div class=\"useless\"><p>Other single table ver...\n",
       "5    arrange  <div class=\"useless\"><p>Other single table ver...\n",
       "6     select  <div class=\"useless\"><p>Other single table ver..."
      ]
     },
     "execution_count": 7,
     "metadata": {},
     "output_type": "execute_result"
    }
   ],
   "source": [
    "df = pd.DataFrame(list(zip(functions, code_to_add)),\n",
    "                  columns =['function', 'code_to_add'])\n",
    "\n",
    "df.to_csv(\"similar_func_scrape.csv\")\n",
    "\n",
    "df"
   ]
  },
  {
   "cell_type": "code",
   "execution_count": null,
   "metadata": {},
   "outputs": [],
   "source": []
  }
 ],
 "metadata": {
  "kernelspec": {
   "display_name": "Python 3",
   "language": "python",
   "name": "python3"
  },
  "language_info": {
   "codemirror_mode": {
    "name": "ipython",
    "version": 3
   },
   "file_extension": ".py",
   "mimetype": "text/x-python",
   "name": "python",
   "nbconvert_exporter": "python",
   "pygments_lexer": "ipython3",
   "version": "3.7.7"
  }
 },
 "nbformat": 4,
 "nbformat_minor": 2
}
